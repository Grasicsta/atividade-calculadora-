{
  "nbformat": 4,
  "nbformat_minor": 0,
  "metadata": {
    "colab": {
      "provenance": [],
      "authorship_tag": "ABX9TyNFZzk8NDP4VoXNdhKU5zoj",
      "include_colab_link": true
    },
    "kernelspec": {
      "name": "python3",
      "display_name": "Python 3"
    },
    "language_info": {
      "name": "python"
    }
  },
  "cells": [
    {
      "cell_type": "markdown",
      "metadata": {
        "id": "view-in-github",
        "colab_type": "text"
      },
      "source": [
        "<a href=\"https://colab.research.google.com/github/Grasicsta/atividade-calculadora-/blob/main/Untitled3.ipynb\" target=\"_parent\"><img src=\"https://colab.research.google.com/assets/colab-badge.svg\" alt=\"Open In Colab\"/></a>"
      ]
    },
    {
      "cell_type": "code",
      "execution_count": 3,
      "metadata": {
        "id": "PnEJK-qlr3D2"
      },
      "outputs": [],
      "source": [
        "def calculadora():\n",
        "    while True:\n",
        "      print(\"\\nSelecione a operação:\")\n",
        "      print(\"1: Soma\")\n",
        "      print(\"2: Subtração\")\n",
        "      print(\"3: Multiplicação\")\n",
        "      print(\"4: Divisão\")\n",
        "      print(\"0: Sair\")\n",
        "\n",
        "      escolha = input(\"Digite o número da operação desejada: \")\n",
        "\n",
        "      if escolha =='0':\n",
        "          print(\"Saindo da calculadora.Até mais!\")\n",
        "          break\n",
        "      elif escolha in ('1', '2', '3','4'):\n",
        "        num1 = float(input(\"Digite o primeiro valor: \"))\n",
        "        num2 = float(input(\"Digite o segundo valor: \"))\n",
        "\n",
        "        if escolha =='1':\n",
        "          resultado = num1 + num2\n",
        "          print(\"Resultado: {}\".format(resultado))\n",
        "        elif escolha == '2':\n",
        "          resultado = num1 -num2\n",
        "          print(\"Resultado: {}\".format(resultado))\n",
        "        elif escolha == '3':\n",
        "            resultado = num1 * num2\n",
        "            print(\"Resultado: {}\".format(resultado))\n",
        "        elif escolha == '4':\n",
        "            if num2 !=0:\n",
        "                resultado = num1 / num2\n",
        "                print(\"Resultado: {}\".format(resultado))\n",
        "            else:\n",
        "                print(\"Não é possível dividir por zero. Tente novamente.\")\n",
        "    else:\n",
        "      print (\"Essa opção não existe. Tente novamente.\")\n",
        "\n",
        "\n",
        ""
      ]
    }
  ]
}